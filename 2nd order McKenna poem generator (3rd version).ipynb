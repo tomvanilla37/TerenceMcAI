{
 "cells": [
  {
   "cell_type": "code",
   "execution_count": 1,
   "id": "72b00df7",
   "metadata": {},
   "outputs": [],
   "source": [
    "import numpy as np\n",
    "import string\n",
    "from functools import partial\n",
    "from collections import defaultdict\n",
    "import pandas as pd"
   ]
  },
  {
   "cell_type": "code",
   "execution_count": 2,
   "id": "b6f88f8b",
   "metadata": {},
   "outputs": [],
   "source": [
    "def rec_dd(depth=0):\n",
    "    if depth == 2:\n",
    "        return 0\n",
    "    \n",
    "    return defaultdict(partial(rec_dd, depth + 1))"
   ]
  },
  {
   "cell_type": "code",
   "execution_count": 3,
   "id": "5e6e1a87",
   "metadata": {},
   "outputs": [],
   "source": [
    "initial = {} # start of a phrase (first word)\n",
    "first_order = rec_dd()\n",
    "second_order = rec_dd()"
   ]
  },
  {
   "cell_type": "code",
   "execution_count": 4,
   "id": "3c8ab443",
   "metadata": {},
   "outputs": [],
   "source": [
    "def remove_punctuation(s):\n",
    "    return s.translate(str.maketrans('','',string.punctuation))"
   ]
  },
  {
   "cell_type": "code",
   "execution_count": 5,
   "id": "a6366f36",
   "metadata": {},
   "outputs": [],
   "source": [
    "def add2dict(d, k, v):  #dictionary, key, value = list of possible next words\n",
    "    if k not in d:\n",
    "        d[k] = []\n",
    "    d[k].append(v)   # [cat, cat, dog, dog, dog, mouse, ...]"
   ]
  },
  {
   "cell_type": "code",
   "execution_count": 6,
   "id": "c96eebe5",
   "metadata": {},
   "outputs": [],
   "source": [
    "mc_quotes = pd.read_csv(\"mckenna_quotes.csv\")\n",
    "for row in mc_quotes[\"quotes\"]:    # traverse poems, populate dictionary\n",
    "    tokens = remove_punctuation(row.rstrip().lower()).split()    # turns every line into list of words\n",
    "\n",
    "    T = len(tokens)\n",
    "    for i in range(T):\n",
    "        t = tokens[i]\n",
    "        if i == 0:\n",
    "            initial[t] = initial.get(t, 0.) + 1 # if t does not exist in dict, it gets created (assigned value 0, immediately added 1)\n",
    "        \n",
    "        else:\n",
    "            t_1 = tokens[i-1]\n",
    "            \n",
    "            if i == T - 1:   # checking if end of sentence (starts counting at 0, thus T-1)\n",
    "                if 'END' not in second_order[(t_1, t)]:\n",
    "                    second_order[(t_1, t)]['END'] = 0 \n",
    "                second_order[(t_1, t)]['END'] += 1    \n",
    "                \n",
    "            if i == 1:  # when given only the first word\n",
    "                first_order[t_1][t] += 1\n",
    "                \n",
    "            else:\n",
    "                t_2 = tokens[i-2]\n",
    "                \n",
    "                if t not in second_order[(t_1, t)]:\n",
    "                    second_order[(t_2, t_1)][t] = 0\n",
    "                second_order[(t_2, t_1)][t] += 1"
   ]
  },
  {
   "cell_type": "code",
   "execution_count": 10,
   "id": "cdb0cf45",
   "metadata": {},
   "outputs": [],
   "source": [
    "# normalize the distributions (turning counts into percentage of total)\n",
    "initial_total = sum(initial.values())\n",
    "for t, c in initial.items():\n",
    "    initial[t] = c / initial_total # maximum likelihood estimate\n",
    "    \n",
    "\n",
    "for t, c in first_order.items():    # new in ver2\n",
    "    first_order_subtotal = sum(c.values())\n",
    "    for sub_t, sub_c, in c.items():\n",
    "         first_order[t][sub_t] = sub_c / first_order_subtotal\n",
    "    \n",
    "for t, c in second_order.items():    # new in ver2\n",
    "    second_order_subtotal = sum(c.values())\n",
    "    for sub_t, sub_c, in c.items():\n",
    "         second_order[t][sub_t] = sub_c / second_order_subtotal\n",
    "            \n",
    "            \n",
    "    \n",
    "#second_order_total = sum(second_order.values())  # new in ver2\n",
    "#for k, ts in second_order.items():\n",
    "#    second_order[k] = c / second_order_total    "
   ]
  },
  {
   "cell_type": "code",
   "execution_count": 14,
   "id": "ea9869c3",
   "metadata": {},
   "outputs": [],
   "source": [
    "def sample_word(d): # sample a word given a dict of probabilities\n",
    "    p0 = np.random.random()  # randomly chooses number (just once) between 0 and 1\n",
    "    #print(f\"p0 = {p0}\")\n",
    "    cumulative = 0\n",
    "    for t, p in d.items():     # token and corresponding probability\n",
    "        cumulative += p    # adds probability of each token\n",
    "        #print(cumulative) \n",
    "        if cumulative > p0:    # originally if p0 < cumulative\n",
    "            #print(t)\n",
    "            return t\n",
    "    assert(False) # should never get here"
   ]
  },
  {
   "cell_type": "code",
   "execution_count": 15,
   "id": "e2ead810",
   "metadata": {},
   "outputs": [],
   "source": [
    "def generate():\n",
    "    for i in range(4): # generate 4 lines at a time\n",
    "        sentence = []\n",
    "        \n",
    "        # sample initital word\n",
    "        w0 = sample_word(initial)\n",
    "        sentence.append(w0)\n",
    "        \n",
    "        # sample second word\n",
    "        w1 = sample_word(first_order[w0])\n",
    "        sentence.append(w1)\n",
    "        \n",
    "        # second-order transitions until END\n",
    "        while True:\n",
    "            w2 = sample_word(second_order[(w0, w1)])\n",
    "            if w2 == 'END':\n",
    "                break   # goes to next line\n",
    "            sentence.append(w2)\n",
    "            w0 = w1\n",
    "            w1 = w2\n",
    "        print(' '.join(sentence))  "
   ]
  },
  {
   "cell_type": "code",
   "execution_count": 16,
   "id": "b2f67b7c",
   "metadata": {},
   "outputs": [
    {
     "name": "stdout",
     "output_type": "stream",
     "text": [
      "if in fact it seems to be lifted\n",
      "everything will come true in cyberspace things are simpler than they are male ego dominated\n",
      "escape into the visual and the heart of the fractal laws that govern the world is something new and intelligent things to each other the insides of our lives and our collective past\n",
      "the central figure in the offing the world at an informational level there is not culturally given to you is your responsibility because the only choice is real and what the goddess really is a prophetic dimension a glimpse of the potential of a neurotic culture against the dehumanizing values that are normally hidden from view\n"
     ]
    }
   ],
   "source": [
    "generate()"
   ]
  }
 ],
 "metadata": {
  "kernelspec": {
   "display_name": "Python 3 (ipykernel)",
   "language": "python",
   "name": "python3"
  },
  "language_info": {
   "codemirror_mode": {
    "name": "ipython",
    "version": 3
   },
   "file_extension": ".py",
   "mimetype": "text/x-python",
   "name": "python",
   "nbconvert_exporter": "python",
   "pygments_lexer": "ipython3",
   "version": "3.8.12"
  },
  "toc": {
   "base_numbering": 1,
   "nav_menu": {},
   "number_sections": true,
   "sideBar": true,
   "skip_h1_title": false,
   "title_cell": "Table of Contents",
   "title_sidebar": "Contents",
   "toc_cell": false,
   "toc_position": {},
   "toc_section_display": true,
   "toc_window_display": false
  }
 },
 "nbformat": 4,
 "nbformat_minor": 5
}
